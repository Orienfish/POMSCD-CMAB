{
 "cells": [
  {
   "cell_type": "code",
   "execution_count": 18,
   "metadata": {},
   "outputs": [],
   "source": [
    "import math\n",
    "import numpy as np\n",
    "import cmab\n",
    "import env\n",
    "\n",
    "p = 10 # total # of sensors\n",
    "q = 4 # total # of misbehaved sensors\n",
    "m = 5 # total # of observed sensors\n",
    "\n",
    "tau = 50 # error ocurrance time\n",
    "L = tau + 200 # length of one exp episode\n",
    "N = 100 # total experiment times\n",
    "\n",
    "# generate sigma\n",
    "# some confusion on sigma[i,i]. set it to 1.0 here. not sure.\n",
    "sigma = np.full((p, p), 0.5)\n",
    "np.fill_diagonal(sigma, 1.0)\n",
    "\n",
    "cmab.gamma.lamda = 0.1 # lambda"
   ]
  },
  {
   "cell_type": "markdown",
   "metadata": {},
   "source": [
    "### Logging"
   ]
  },
  {
   "cell_type": "code",
   "execution_count": 19,
   "metadata": {},
   "outputs": [],
   "source": [
    "def log(fname, msg):\n",
    "    with open(fname, 'a+') as f:\n",
    "        f.write(msg)\n",
    "        f.write('\\n')"
   ]
  },
  {
   "cell_type": "markdown",
   "metadata": {},
   "source": [
    "### Run experiments function"
   ]
  },
  {
   "cell_type": "code",
   "execution_count": 20,
   "metadata": {},
   "outputs": [],
   "source": [
    "def run_exp(delta):\n",
    "    # logging file name\n",
    "    fname = str(delta) + '.log'\n",
    "    \n",
    "    # generate mu_c\n",
    "    # delta = 2.0\n",
    "    mu = np.zeros((p, )) # normal mean\n",
    "    mu_c = np.zeros((p, ))\n",
    "    for i in range(0, int(q / 2)): # first q elements to delta, error mean\n",
    "        mu_c[i*2] = delta\n",
    "        mu_c[i*2+1] = delta\n",
    "    # print(mu_c)\n",
    "\n",
    "    CMAB_ADD, CMAB_s_ADD, rdm_ADD, opt_ADD = [], [], [], []\n",
    "    CMAB_MAX, CMAB_s_MAX, rdm_MAX, opt_MAX = [], [], [], []\n",
    "    for n in range(0, N):\n",
    "        Xn = env.gen_input(mu, mu_c, sigma, tau, L)\n",
    "        log(fname, 'mu_c {} iter {}'.format(mu_c, n))\n",
    "        print('iter', n)\n",
    "        # env.visualize(Xn)\n",
    "\n",
    "        # CMAB\n",
    "        cmab.test.h = 6.0\n",
    "        detect = cmab.CMAB(p, m, L, sigma, Xn, cmab.gamma)\n",
    "        ADD = detect - tau\n",
    "        log(fname, 'cmab {} {} {}'.format(ADD, cmab.test.max, cmab.test.h))\n",
    "        if ADD > 0: CMAB_ADD.append(ADD)\n",
    "        CMAB_MAX.append(cmab.test.max)\n",
    "        cmab.test.max = None\n",
    "\n",
    "        # CMAB_s\n",
    "        cmab.CMAB_s.h = 1.5\n",
    "        detect = cmab.CMAB_s(p, m, L, sigma, Xn, cmab.gamma)\n",
    "        ADD = detect - tau\n",
    "        log(fname, 'cmab_s {} {} {}'.format(ADD, cmab.CMAB_s.max, cmab.CMAB_s.h))\n",
    "        if ADD > 0: CMAB_s_ADD.append(ADD)\n",
    "        CMAB_s_MAX.append(cmab.CMAB_s.max)\n",
    "        cmab.CMAB_s.max = None\n",
    "\n",
    "        # random\n",
    "        cmab.test.h = 6.0\n",
    "        detect = cmab.rdm(p, m, L, sigma, Xn)\n",
    "        ADD = detect - tau\n",
    "        log(fname, 'rdm {} {} {}'.format(ADD, cmab.test.max, cmab.test.h))\n",
    "        if ADD > 0: rdm_ADD.append(ADD)\n",
    "        rdm_MAX.append(cmab.test.max)\n",
    "        cmab.test.max = None\n",
    "\n",
    "        # optimal, m = p\n",
    "        cmab.test.h = 8.0\n",
    "        detect = cmab.opt(p, L, sigma, Xn)\n",
    "        ADD = detect - tau\n",
    "        log(fname, 'opt {} {} {}'.format(ADD, cmab.test.max, cmab.test.h))\n",
    "        if ADD > 0: opt_ADD.append(ADD)\n",
    "        opt_MAX.append(cmab.test.max)\n",
    "        cmab.test.max = None\n",
    "\n",
    "    def result(label, res_list, N):\n",
    "        res_list = np.array(res_list)\n",
    "        res_max = np.max(res_list)\n",
    "        res_min = np.min(res_list)\n",
    "        res_mean = np.mean(res_list)\n",
    "        res_var = np.var(res_list)\n",
    "        print('\\nResult of', label)\n",
    "        print('Valid percentage of samples', len(res_list) / N * 100, '%')\n",
    "        print('max: {} min: {} mean: {} var: {}'.format(res_max, res_min, \\\n",
    "                res_mean, res_var))\n",
    "\n",
    "    result('CMAB_ADD', CMAB_ADD, N)\n",
    "    result('CMAB_MAX', CMAB_MAX, N)\n",
    "    result('CMAB_s_ADD', CMAB_s_ADD, N)\n",
    "    result('CMAB_s_MAX', CMAB_s_MAX, N)\n",
    "    result('rdm_ADD', rdm_ADD, N)\n",
    "    result('rdm_MAX', rdm_MAX, N)\n",
    "    result('opt_ADD', opt_ADD, N)\n",
    "    result('opt_MAX', opt_MAX, N)"
   ]
  },
  {
   "cell_type": "markdown",
   "metadata": {},
   "source": [
    "### Run experiment with different delta"
   ]
  },
  {
   "cell_type": "code",
   "execution_count": 21,
   "metadata": {},
   "outputs": [
    {
     "name": "stdout",
     "output_type": "stream",
     "text": [
      "iter 0\n",
      "\n",
      "Result of CMAB_ADD\n",
      "Valid percentage of samples 100.0 %\n",
      "max: 200 min: 200 mean: 200.0 var: 0.0\n",
      "\n",
      "Result of CMAB_MAX\n",
      "Valid percentage of samples 100.0 %\n",
      "max: 4.148345847458903 min: 4.148345847458903 mean: 4.148345847458903 var: 0.0\n",
      "\n",
      "Result of CMAB_s_ADD\n",
      "Valid percentage of samples 100.0 %\n",
      "max: 200 min: 200 mean: 200.0 var: 0.0\n",
      "\n",
      "Result of CMAB_s_MAX\n",
      "Valid percentage of samples 100.0 %\n",
      "max: 0.7743349692734438 min: 0.7743349692734438 mean: 0.7743349692734438 var: 0.0\n",
      "\n",
      "Result of rdm_ADD\n",
      "Valid percentage of samples 100.0 %\n",
      "max: 200 min: 200 mean: 200.0 var: 0.0\n",
      "\n",
      "Result of rdm_MAX\n",
      "Valid percentage of samples 100.0 %\n",
      "max: 5.338675516762844 min: 5.338675516762844 mean: 5.338675516762844 var: 0.0\n",
      "\n",
      "Result of opt_ADD\n",
      "Valid percentage of samples 100.0 %\n",
      "max: 200 min: 200 mean: 200.0 var: 0.0\n",
      "\n",
      "Result of opt_MAX\n",
      "Valid percentage of samples 100.0 %\n",
      "max: 6.216864935486732 min: 6.216864935486732 mean: 6.216864935486732 var: 0.0\n"
     ]
    }
   ],
   "source": [
    "run_exp(0.0)"
   ]
  },
  {
   "cell_type": "code",
   "execution_count": 22,
   "metadata": {},
   "outputs": [
    {
     "name": "stdout",
     "output_type": "stream",
     "text": [
      "iter 0\n",
      "\n",
      "Result of CMAB_ADD\n",
      "Valid percentage of samples 100.0 %\n",
      "max: 200 min: 200 mean: 200.0 var: 0.0\n",
      "\n",
      "Result of CMAB_MAX\n",
      "Valid percentage of samples 100.0 %\n",
      "max: 4.714524340257302 min: 4.714524340257302 mean: 4.714524340257302 var: 0.0\n"
     ]
    },
    {
     "ename": "ValueError",
     "evalue": "zero-size array to reduction operation maximum which has no identity",
     "output_type": "error",
     "traceback": [
      "\u001b[0;31m---------------------------------------------------------------------------\u001b[0m",
      "\u001b[0;31mValueError\u001b[0m                                Traceback (most recent call last)",
      "\u001b[0;32m<ipython-input-22-90ee48b64aad>\u001b[0m in \u001b[0;36m<module>\u001b[0;34m\u001b[0m\n\u001b[0;32m----> 1\u001b[0;31m \u001b[0mrun_exp\u001b[0m\u001b[0;34m(\u001b[0m\u001b[0;36m0.5\u001b[0m\u001b[0;34m)\u001b[0m\u001b[0;34m\u001b[0m\u001b[0;34m\u001b[0m\u001b[0m\n\u001b[0m",
      "\u001b[0;32m<ipython-input-20-696abb16ad97>\u001b[0m in \u001b[0;36mrun_exp\u001b[0;34m(delta)\u001b[0m\n\u001b[1;32m     69\u001b[0m     \u001b[0mresult\u001b[0m\u001b[0;34m(\u001b[0m\u001b[0;34m'CMAB_ADD'\u001b[0m\u001b[0;34m,\u001b[0m \u001b[0mCMAB_ADD\u001b[0m\u001b[0;34m,\u001b[0m \u001b[0mN\u001b[0m\u001b[0;34m)\u001b[0m\u001b[0;34m\u001b[0m\u001b[0;34m\u001b[0m\u001b[0m\n\u001b[1;32m     70\u001b[0m     \u001b[0mresult\u001b[0m\u001b[0;34m(\u001b[0m\u001b[0;34m'CMAB_MAX'\u001b[0m\u001b[0;34m,\u001b[0m \u001b[0mCMAB_MAX\u001b[0m\u001b[0;34m,\u001b[0m \u001b[0mN\u001b[0m\u001b[0;34m)\u001b[0m\u001b[0;34m\u001b[0m\u001b[0;34m\u001b[0m\u001b[0m\n\u001b[0;32m---> 71\u001b[0;31m     \u001b[0mresult\u001b[0m\u001b[0;34m(\u001b[0m\u001b[0;34m'CMAB_s_ADD'\u001b[0m\u001b[0;34m,\u001b[0m \u001b[0mCMAB_s_ADD\u001b[0m\u001b[0;34m,\u001b[0m \u001b[0mN\u001b[0m\u001b[0;34m)\u001b[0m\u001b[0;34m\u001b[0m\u001b[0;34m\u001b[0m\u001b[0m\n\u001b[0m\u001b[1;32m     72\u001b[0m     \u001b[0mresult\u001b[0m\u001b[0;34m(\u001b[0m\u001b[0;34m'CMAB_s_MAX'\u001b[0m\u001b[0;34m,\u001b[0m \u001b[0mCMAB_s_MAX\u001b[0m\u001b[0;34m,\u001b[0m \u001b[0mN\u001b[0m\u001b[0;34m)\u001b[0m\u001b[0;34m\u001b[0m\u001b[0;34m\u001b[0m\u001b[0m\n\u001b[1;32m     73\u001b[0m     \u001b[0mresult\u001b[0m\u001b[0;34m(\u001b[0m\u001b[0;34m'rdm_ADD'\u001b[0m\u001b[0;34m,\u001b[0m \u001b[0mrdm_ADD\u001b[0m\u001b[0;34m,\u001b[0m \u001b[0mN\u001b[0m\u001b[0;34m)\u001b[0m\u001b[0;34m\u001b[0m\u001b[0;34m\u001b[0m\u001b[0m\n",
      "\u001b[0;32m<ipython-input-20-696abb16ad97>\u001b[0m in \u001b[0;36mresult\u001b[0;34m(label, res_list, N)\u001b[0m\n\u001b[1;32m     58\u001b[0m     \u001b[0;32mdef\u001b[0m \u001b[0mresult\u001b[0m\u001b[0;34m(\u001b[0m\u001b[0mlabel\u001b[0m\u001b[0;34m,\u001b[0m \u001b[0mres_list\u001b[0m\u001b[0;34m,\u001b[0m \u001b[0mN\u001b[0m\u001b[0;34m)\u001b[0m\u001b[0;34m:\u001b[0m\u001b[0;34m\u001b[0m\u001b[0;34m\u001b[0m\u001b[0m\n\u001b[1;32m     59\u001b[0m         \u001b[0mres_list\u001b[0m \u001b[0;34m=\u001b[0m \u001b[0mnp\u001b[0m\u001b[0;34m.\u001b[0m\u001b[0marray\u001b[0m\u001b[0;34m(\u001b[0m\u001b[0mres_list\u001b[0m\u001b[0;34m)\u001b[0m\u001b[0;34m\u001b[0m\u001b[0;34m\u001b[0m\u001b[0m\n\u001b[0;32m---> 60\u001b[0;31m         \u001b[0mres_max\u001b[0m \u001b[0;34m=\u001b[0m \u001b[0mnp\u001b[0m\u001b[0;34m.\u001b[0m\u001b[0mmax\u001b[0m\u001b[0;34m(\u001b[0m\u001b[0mres_list\u001b[0m\u001b[0;34m)\u001b[0m\u001b[0;34m\u001b[0m\u001b[0;34m\u001b[0m\u001b[0m\n\u001b[0m\u001b[1;32m     61\u001b[0m         \u001b[0mres_min\u001b[0m \u001b[0;34m=\u001b[0m \u001b[0mnp\u001b[0m\u001b[0;34m.\u001b[0m\u001b[0mmin\u001b[0m\u001b[0;34m(\u001b[0m\u001b[0mres_list\u001b[0m\u001b[0;34m)\u001b[0m\u001b[0;34m\u001b[0m\u001b[0;34m\u001b[0m\u001b[0m\n\u001b[1;32m     62\u001b[0m         \u001b[0mres_mean\u001b[0m \u001b[0;34m=\u001b[0m \u001b[0mnp\u001b[0m\u001b[0;34m.\u001b[0m\u001b[0mmean\u001b[0m\u001b[0;34m(\u001b[0m\u001b[0mres_list\u001b[0m\u001b[0;34m)\u001b[0m\u001b[0;34m\u001b[0m\u001b[0;34m\u001b[0m\u001b[0m\n",
      "\u001b[0;32m<__array_function__ internals>\u001b[0m in \u001b[0;36mamax\u001b[0;34m(*args, **kwargs)\u001b[0m\n",
      "\u001b[0;32m/usr/local/lib/python3.7/site-packages/numpy/core/fromnumeric.py\u001b[0m in \u001b[0;36mamax\u001b[0;34m(a, axis, out, keepdims, initial, where)\u001b[0m\n\u001b[1;32m   2666\u001b[0m     \"\"\"\n\u001b[1;32m   2667\u001b[0m     return _wrapreduction(a, np.maximum, 'max', axis, None, out,\n\u001b[0;32m-> 2668\u001b[0;31m                           keepdims=keepdims, initial=initial, where=where)\n\u001b[0m\u001b[1;32m   2669\u001b[0m \u001b[0;34m\u001b[0m\u001b[0m\n\u001b[1;32m   2670\u001b[0m \u001b[0;34m\u001b[0m\u001b[0m\n",
      "\u001b[0;32m/usr/local/lib/python3.7/site-packages/numpy/core/fromnumeric.py\u001b[0m in \u001b[0;36m_wrapreduction\u001b[0;34m(obj, ufunc, method, axis, dtype, out, **kwargs)\u001b[0m\n\u001b[1;32m     88\u001b[0m                 \u001b[0;32mreturn\u001b[0m \u001b[0mreduction\u001b[0m\u001b[0;34m(\u001b[0m\u001b[0maxis\u001b[0m\u001b[0;34m=\u001b[0m\u001b[0maxis\u001b[0m\u001b[0;34m,\u001b[0m \u001b[0mout\u001b[0m\u001b[0;34m=\u001b[0m\u001b[0mout\u001b[0m\u001b[0;34m,\u001b[0m \u001b[0;34m**\u001b[0m\u001b[0mpasskwargs\u001b[0m\u001b[0;34m)\u001b[0m\u001b[0;34m\u001b[0m\u001b[0;34m\u001b[0m\u001b[0m\n\u001b[1;32m     89\u001b[0m \u001b[0;34m\u001b[0m\u001b[0m\n\u001b[0;32m---> 90\u001b[0;31m     \u001b[0;32mreturn\u001b[0m \u001b[0mufunc\u001b[0m\u001b[0;34m.\u001b[0m\u001b[0mreduce\u001b[0m\u001b[0;34m(\u001b[0m\u001b[0mobj\u001b[0m\u001b[0;34m,\u001b[0m \u001b[0maxis\u001b[0m\u001b[0;34m,\u001b[0m \u001b[0mdtype\u001b[0m\u001b[0;34m,\u001b[0m \u001b[0mout\u001b[0m\u001b[0;34m,\u001b[0m \u001b[0;34m**\u001b[0m\u001b[0mpasskwargs\u001b[0m\u001b[0;34m)\u001b[0m\u001b[0;34m\u001b[0m\u001b[0;34m\u001b[0m\u001b[0m\n\u001b[0m\u001b[1;32m     91\u001b[0m \u001b[0;34m\u001b[0m\u001b[0m\n\u001b[1;32m     92\u001b[0m \u001b[0;34m\u001b[0m\u001b[0m\n",
      "\u001b[0;31mValueError\u001b[0m: zero-size array to reduction operation maximum which has no identity"
     ]
    }
   ],
   "source": [
    "run_exp(0.5)"
   ]
  },
  {
   "cell_type": "code",
   "execution_count": null,
   "metadata": {},
   "outputs": [],
   "source": [
    "run_exp(1.0)"
   ]
  },
  {
   "cell_type": "code",
   "execution_count": null,
   "metadata": {},
   "outputs": [],
   "source": [
    "run_exp(1.5)"
   ]
  },
  {
   "cell_type": "code",
   "execution_count": null,
   "metadata": {},
   "outputs": [],
   "source": [
    "run_exp(2.0)"
   ]
  }
 ],
 "metadata": {
  "kernelspec": {
   "display_name": "Python 3",
   "language": "python",
   "name": "python3"
  },
  "language_info": {
   "codemirror_mode": {
    "name": "ipython",
    "version": 3
   },
   "file_extension": ".py",
   "mimetype": "text/x-python",
   "name": "python",
   "nbconvert_exporter": "python",
   "pygments_lexer": "ipython3",
   "version": "3.7.6"
  }
 },
 "nbformat": 4,
 "nbformat_minor": 4
}
